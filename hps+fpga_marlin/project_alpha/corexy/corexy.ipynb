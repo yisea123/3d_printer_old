{
  "nbformat": 4,
  "nbformat_minor": 0,
  "metadata": {
    "colab": {
      "name": "Untitled3.ipynb",
      "version": "0.3.2",
      "provenance": [],
      "collapsed_sections": []
    },
    "kernelspec": {
      "name": "python2",
      "display_name": "Python 2"
    }
  },
  "cells": [
    {
      "metadata": {
        "id": "UxyQ1EHfWp7N",
        "colab_type": "code",
        "colab": {}
      },
      "cell_type": "code",
      "source": [
        "import numpy\n",
        "\n",
        "%matplotlib inline\n",
        "import matplotlib.pyplot as plt"
      ],
      "execution_count": 0,
      "outputs": []
    },
    {
      "metadata": {
        "id": "5ma8SW3SWnDb",
        "colab_type": "code",
        "colab": {}
      },
      "cell_type": "code",
      "source": [
        "def dx(a, b):\n",
        "  return (a+b)/2\n",
        "\n",
        "def dy(a, b):\n",
        "  return (a-b)/2\n",
        "\n",
        "def da(x, y):\n",
        "  return x+y\n",
        "\n",
        "def db(x, y):\n",
        "  return x-y"
      ],
      "execution_count": 0,
      "outputs": []
    },
    {
      "metadata": {
        "id": "bd8pc6d3ozIz",
        "colab_type": "code",
        "colab": {}
      },
      "cell_type": "code",
      "source": [
        "def core_xy(a, b, x0, y0):\n",
        "  plt.xlim(-15, 15)\n",
        "  plt.ylim(-15, 15)\n",
        "  \n",
        "  x1 = x0+dx(a, b)\n",
        "  y1 = y0+dy(a, b)\n",
        "  f1 = False\n",
        "  if min([x0, x1]) < 0:\n",
        "     f1 = True\n",
        "      \n",
        "  f2 = False\n",
        "  if min([y0, y1]) < 0:\n",
        "     f2 = True\n",
        "\n",
        "  if f1:\n",
        "    print('f1')\n",
        "    plt.plot([x0, x1], [y0, y1], 'go-')\n",
        "    if (x1 <= 0):\n",
        "      print(a, b)\n",
        "      \n",
        "      \n",
        "      #!!!!!!!!\n",
        "      a = a - da(0-x0, y1-y0)\n",
        "      b = b - db(0-x0, y1-y0)\n",
        "      print(a, b)\n",
        "    \n",
        "    x2 = x0 - dx(a, b)\n",
        "    y2 = y0 - dy(a, b)\n",
        "    print(x2, y2)\n",
        "    plt.plot([x0, x2], [y0, y2], 'bo-')\n",
        "    #plt.plot([x2, x3], [y2, y3], 'bo-')\n",
        "    \n",
        "  plt.plot(x0, y0, 'bo-')"
      ],
      "execution_count": 0,
      "outputs": []
    },
    {
      "metadata": {
        "id": "iavkZOGqpTFW",
        "colab_type": "code",
        "colab": {
          "base_uri": "https://localhost:8080/",
          "height": 337
        },
        "outputId": "26e30c73-a2ff-4fef-ad68-67184961468a"
      },
      "cell_type": "code",
      "source": [
        "core_xy(-10, 5, 1, 1)"
      ],
      "execution_count": 110,
      "outputs": [
        {
          "output_type": "stream",
          "text": [
            "f1\n",
            "(-10, 5)\n",
            "(1, 0)\n",
            "(1, 1)\n"
          ],
          "name": "stdout"
        },
        {
          "output_type": "display_data",
          "data": {
            "image/png": "[encoded data removed]",
            "text/plain": [
              "<Figure size 432x288 with 1 Axes>"
            ]
          },
          "metadata": {
            "tags": []
          }
        }
      ]
    },
    {
      "metadata": {
        "id": "xc9juUweparL",
        "colab_type": "code",
        "colab": {}
      },
      "cell_type": "code",
      "source": [
        ""
      ],
      "execution_count": 0,
      "outputs": []
    }
  ]
}